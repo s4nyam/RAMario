{
 "cells": [
  {
   "cell_type": "code",
   "execution_count": null,
   "metadata": {},
   "outputs": [],
   "source": [
    "import gym_super_mario_bros\n",
    "from stable_baselines3 import A2C\n",
    "from stable_baselines3.common.vec_env import DummyVecEnv, VecVideoRecorder\n",
    "from stable_baselines3.common.evaluation import evaluate_policy\n",
    "from stable_baselines3.common.utils import set_random_seed\n",
    "from stable_baselines3.common.env_util import make_vec_env\n",
    "\n",
    "# Set the random seed for reproducibility\n",
    "set_random_seed(42)\n",
    "\n",
    "# Create the Super Mario Bros environment\n",
    "env = gym_super_mario_bros.make('SuperMarioBros-1-1-v0')\n",
    "\n",
    "# Define the number of episodes to record for\n",
    "n_episodes = 3\n",
    "\n",
    "# Define the duration of each episode in steps\n",
    "episode_duration = 500\n",
    "\n",
    "# Wrap the environment in a DummyVecEnv\n",
    "env = DummyVecEnv([lambda: env])\n",
    "\n",
    "# Create a VecVideoRecorder to record the gameplay as a video file\n",
    "env = VecVideoRecorder(env, \".\", record_video_trigger=lambda x: x == 0, video_length=episode_duration, name_prefix=\"mario_video\")\n",
    "\n",
    "# Create an A2C model\n",
    "model = A2C('MlpPolicy', env, verbose=1)\n",
    "\n",
    "# Train the model for 10,000 steps\n",
    "model.learn(total_timesteps=1500)\n",
    "\n",
    "# Evaluate the model's performance\n",
    "mean_reward, std_reward = evaluate_policy(model, env, n_eval_episodes=10)\n",
    "\n",
    "print(f\"Mean reward: {mean_reward:.2f} +/- {std_reward:.2f}\")\n",
    "\n",
    "# Play the game with the trained model and record the gameplay as a video file\n",
    "obs = env.reset()\n",
    "for i in range(n_episodes):\n",
    "    done = False\n",
    "    episode_reward = 0\n",
    "    while not done:\n",
    "        action, _ = model.predict(obs)\n",
    "        obs, reward, done, info = env.step(action)\n",
    "        episode_reward += reward\n",
    "    print(f\"Episode {i+1}: reward={episode_reward}\")\n",
    "env.close()\n"
   ]
  },
  {
   "cell_type": "code",
   "execution_count": null,
   "metadata": {},
   "outputs": [],
   "source": []
  }
 ],
 "metadata": {
  "interpreter": {
   "hash": "aee8b7b246df8f9039afb4144a1f6fd8d2ca17a180786b69acc140d282b71a49"
  },
  "kernelspec": {
   "display_name": "Python 3.10.8 64-bit",
   "language": "python",
   "name": "python3"
  },
  "language_info": {
   "codemirror_mode": {
    "name": "ipython",
    "version": 3
   },
   "file_extension": ".py",
   "mimetype": "text/x-python",
   "name": "python",
   "nbconvert_exporter": "python",
   "pygments_lexer": "ipython3",
   "version": "3.10.8"
  },
  "orig_nbformat": 4
 },
 "nbformat": 4,
 "nbformat_minor": 2
}
